{
 "cells": [
  {
   "cell_type": "markdown",
   "id": "79ed6198",
   "metadata": {},
   "source": [
    "Data Science Tools and Ecosystem"
   ]
  },
  {
   "cell_type": "markdown",
   "id": "71b3fdcd",
   "metadata": {},
   "source": [
    "In this notebook, Data Science Tools and Ecosystem are summarized."
   ]
  },
  {
   "cell_type": "markdown",
   "id": "10f30474",
   "metadata": {},
   "source": [
    "**Objectives:**\n",
    "\n",
    "- Explore popular languages for Data Science.\n",
    "- Understand the basics of version control using Git.\n",
    "- Learn key concepts in Jupyter Notebooks and their role in data analysis.\n",
    "- Familiarize yourself with common data science libraries in Python.\n",
    "- Gain insights into using GitHub for collaborative projects.\n",
    "- Common languages: SQL , R , Python"
   ]
  },
  {
   "cell_type": "markdown",
   "id": "4407c3fb",
   "metadata": {},
   "source": [
    "Some of the popular languages that Data Scientists use are: \n",
    "    Python, \n",
    "    R, \n",
    "    SQL"
   ]
  },
  {
   "cell_type": "markdown",
   "id": "13ce453e",
   "metadata": {},
   "source": [
    "Some of the commonly used libraries used by Data Scientists include:\n",
    "    Pandas\n",
    "    NumPy\n",
    "    Matplotlib\n",
    "    Scikitlearn\n",
    "    "
   ]
  },
  {
   "cell_type": "markdown",
   "id": "a69d72ac",
   "metadata": {},
   "source": [
    "Data Science Tools\n",
    "Jupyter Notebooks\n",
    "RStudio\n",
    "VSCode"
   ]
  },
  {
   "cell_type": "markdown",
   "id": "a253138e",
   "metadata": {},
   "source": [
    "Below are a few examples of evaluating arithmetic expressions in Python.\n"
   ]
  },
  {
   "cell_type": "code",
   "execution_count": 10,
   "id": "907f26b1",
   "metadata": {},
   "outputs": [
    {
     "data": {
      "text/plain": [
       "17"
      ]
     },
     "execution_count": 10,
     "metadata": {},
     "output_type": "execute_result"
    }
   ],
   "source": [
    "# This is a simple arithmetic expression to multiply then add integers.\n",
    "result = (3 * 4) + 5\n",
    "result"
   ]
  },
  {
   "cell_type": "code",
   "execution_count": 12,
   "id": "e122bf98",
   "metadata": {},
   "outputs": [
    {
     "data": {
      "text/plain": [
       "3.3333333333333335"
      ]
     },
     "execution_count": 12,
     "metadata": {},
     "output_type": "execute_result"
    }
   ],
   "source": [
    "# This will convert 200 minutes to hours by dividing by 60.\n",
    "hours = 200 / 60\n",
    "hours"
   ]
  },
  {
   "cell_type": "markdown",
   "id": "cb5e4667",
   "metadata": {},
   "source": [
    "## Author\n",
    "\n",
    "Jibin Thomas Sam"
   ]
  }
 ],
 "metadata": {
  "kernelspec": {
   "display_name": "Python 3 (ipykernel)",
   "language": "python",
   "name": "python3"
  },
  "language_info": {
   "codemirror_mode": {
    "name": "ipython",
    "version": 3
   },
   "file_extension": ".py",
   "mimetype": "text/x-python",
   "name": "python",
   "nbconvert_exporter": "python",
   "pygments_lexer": "ipython3",
   "version": "3.8.10"
  }
 },
 "nbformat": 4,
 "nbformat_minor": 5
}
